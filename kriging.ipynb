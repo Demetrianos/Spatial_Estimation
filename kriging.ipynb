{
 "cells": [
  {
   "cell_type": "code",
   "execution_count": null,
   "metadata": {
    "scrolled": false
   },
   "outputs": [],
   "source": [
    "import numpy as np\n",
    "import pandas as pd \n",
    "from pykrige.ok import OrdinaryKriging\n",
    "from pykrige.kriging_tools import write_asc_grid\n",
    "import pykrige.kriging_tools as kt\n",
    "import matplotlib.pyplot as plt\n",
    "import matplotlib.image as mpimg\n",
    "\n",
    "#import floor plans\n",
    "img = mpimg.imread(\"floor_plan.png\") \n",
    "img2 = mpimg.imread(\"floor_plan2.png\")\n",
    "img3 = mpimg.imread(\"floor_plan3.png\")\n",
    "\n",
    "#read coordinates of sensors \n",
    "position=pd.read_csv('sensor_position.txt',delimiter=\"\\t\")\n",
    "x=np.array(position['X']) \n",
    "y=np.array(position['Y']) \n",
    "sensor=np.array(position['Sensor'])\n",
    "\n",
    "#read temperature and humidity data\n",
    "temperature=pd.read_csv('data_temperature.txt',delimiter=\"\\t\",header = None)\n",
    "data_temperature=np.array(temperature[:])\n",
    "\n",
    "#create a grid in order to run the kriging in it\n",
    "grid_space = 0.1\n",
    "grid_x = np.arange(0, 55.1, grid_space)  \n",
    "grid_y = np.arange(0, 145.1, grid_space)\n",
    "\n",
    "#kriging estimation and plotting: estimate for each time\n",
    "for i in range(len(data_temperature)):\n",
    "    OK = OrdinaryKriging(x, y, data_temperature[i], variogram_model='spherical', verbose=True, enable_plotting=True,nlags=20)\n",
    "    z_estim, e_estim = OK.execute('grid', grid_x, grid_y)\n",
    "    \n",
    "    xintrp, yintrp = np.meshgrid(grid_x, grid_y)\n",
    "    \n",
    "    fig, (ax1,ax2) = plt.subplots(ncols=2, figsize=(10, 5))\n",
    "    \n",
    "    ax1.set_title('Estimated temperature values\\n')\n",
    "    ax1.scatter(x, y,s=10,c='black' ,zorder=2,marker='o',label='Sensor')\n",
    "    ax1.imshow(img2, extent=[0, 55, 145, 0],zorder=3)\n",
    "    contour1=ax1.contourf(xintrp, yintrp, z_estim, np.linspace(24.2, 26.8,100,endpoint=True) ,cmap='jet', zorder=1)\n",
    "    cb1=plt.colorbar(contour1,ax=ax1,ticks=np.linspace(24.2, 26.8,10,endpoint=True))\n",
    " \n",
    "    ax2.set_title('Error of estimated temperature values\\n')\n",
    "    ax2.scatter(x, y,s=10,c='black' ,zorder=2,marker='o',label='Sensor')\n",
    "    ax2.imshow(img2, extent=[0, 55, 145, 0],zorder=3)\n",
    "    contour2=ax2.contourf(xintrp, yintrp, e_estim , np.linspace(0, 1.0,100,endpoint=True) ,cmap='Greys', zorder=1) \n",
    "    cb2=plt.colorbar(contour2,ax=ax2,ticks=np.linspace(0, 1.0,10,endpoint=True))\n",
    "    \n",
    "    plt.show()\n"
   ]
  }
 ],
 "metadata": {
  "kernelspec": {
   "display_name": "Python 3",
   "language": "python",
   "name": "python3"
  },
  "language_info": {
   "codemirror_mode": {
    "name": "ipython",
    "version": 3
   },
   "file_extension": ".py",
   "mimetype": "text/x-python",
   "name": "python",
   "nbconvert_exporter": "python",
   "pygments_lexer": "ipython3",
   "version": "3.8.2"
  }
 },
 "nbformat": 4,
 "nbformat_minor": 4
}
